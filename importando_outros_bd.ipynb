{
 "cells": [
  {
   "attachments": {},
   "cell_type": "markdown",
   "metadata": {},
   "source": [
    "## Importando outros tipos de base de dados:"
   ]
  },
  {
   "attachments": {},
   "cell_type": "markdown",
   "metadata": {},
   "source": [
    "Json:\n"
   ]
  },
  {
   "cell_type": "code",
   "execution_count": 120,
   "metadata": {},
   "outputs": [],
   "source": [
    "import pandas as pd\n",
    "# import openpyxl"
   ]
  },
  {
   "cell_type": "code",
   "execution_count": 121,
   "metadata": {},
   "outputs": [
    {
     "name": "stdout",
     "output_type": "stream",
     "text": [
      "                      Tipo           Bairro  Quartos  Vagas  Suites  Area  \\\n",
      "0                Quitinete       Copacabana        1      0       0    40   \n",
      "1                     Casa  Jardim Botânico        2      0       1   100   \n",
      "2  Conjunto Comercial/Sala  Barra da Tijuca        0      4       0   150   \n",
      "3              Apartamento           Centro        1      0       0    15   \n",
      "4              Apartamento     Higienópolis        1      0       0    48   \n",
      "5              Apartamento     Vista Alegre        3      1       0    70   \n",
      "6              Apartamento         Cachambi        2      0       0    50   \n",
      "7       Casa de Condomínio  Barra da Tijuca        5      4       5   750   \n",
      "8       Casa de Condomínio            Ramos        2      2       0    65   \n",
      "9  Conjunto Comercial/Sala           Centro        0      3       0   695   \n",
      "\n",
      "   Valor  Condominio    IPTU  \n",
      "0   1700       500.0    60.0  \n",
      "1   7000         NaN     NaN  \n",
      "2   5200      4020.0  1111.0  \n",
      "3    800       390.0    20.0  \n",
      "4    800       230.0     NaN  \n",
      "5   1200         NaN     NaN  \n",
      "6   1300       301.0    17.0  \n",
      "7  22000         NaN     NaN  \n",
      "8   1000         NaN     NaN  \n",
      "9  35000     19193.0  3030.0  \n"
     ]
    }
   ],
   "source": [
    "df_json = pd.read_json('data/extras/dados/aluguel.json')\n",
    "print(df_json)"
   ]
  },
  {
   "attachments": {},
   "cell_type": "markdown",
   "metadata": {},
   "source": [
    "TXT:"
   ]
  },
  {
   "cell_type": "code",
   "execution_count": 122,
   "metadata": {},
   "outputs": [
    {
     "name": "stdout",
     "output_type": "stream",
     "text": [
      "<_io.TextIOWrapper name='data/extras/dados/aluguel.txt' mode='r' encoding='cp1252'>\n"
     ]
    }
   ],
   "source": [
    "txt = open('data/extras/dados/aluguel.txt','r')\n",
    "print(txt)"
   ]
  },
  {
   "cell_type": "code",
   "execution_count": 123,
   "metadata": {},
   "outputs": [
    {
     "name": "stdout",
     "output_type": "stream",
     "text": [
      "                      Tipo           Bairro  Quartos  Vagas  Suites  Area  \\\n",
      "0                Quitinete       Copacabana        1      0       0    40   \n",
      "1                     Casa  Jardim Botânico        2      0       1   100   \n",
      "2  Conjunto Comercial/Sala  Barra da Tijuca        0      4       0   150   \n",
      "3              Apartamento           Centro        1      0       0    15   \n",
      "4              Apartamento     Higienópolis        1      0       0    48   \n",
      "5              Apartamento     Vista Alegre        3      1       0    70   \n",
      "6              Apartamento         Cachambi        2      0       0    50   \n",
      "7       Casa de Condomínio  Barra da Tijuca        5      4       5   750   \n",
      "8       Casa de Condomínio            Ramos        2      2       0    65   \n",
      "9  Conjunto Comercial/Sala           Centro        0      3       0   695   \n",
      "\n",
      "   Valor  Condominio    IPTU  \n",
      "0   1700       500.0    60.0  \n",
      "1   7000         NaN     NaN  \n",
      "2   5200      4020.0  1111.0  \n",
      "3    800       390.0    20.0  \n",
      "4    800       230.0     NaN  \n",
      "5   1200         NaN     NaN  \n",
      "6   1300       301.0    17.0  \n",
      "7  22000         NaN     NaN  \n",
      "8   1000         NaN     NaN  \n",
      "9  35000     19193.0  3030.0  \n"
     ]
    }
   ],
   "source": [
    "df_txt = pd.read_table('data/extras/dados/aluguel.txt')\n",
    "print(df_txt)"
   ]
  },
  {
   "attachments": {},
   "cell_type": "markdown",
   "metadata": {},
   "source": [
    "XLS:"
   ]
  },
  {
   "attachments": {},
   "cell_type": "markdown",
   "metadata": {},
   "source": [
    "Arquivos em excel;\n",
    "\n",
    "- Instalar modulo openpyxl (não precisa importar, só ter instalado!)"
   ]
  },
  {
   "cell_type": "code",
   "execution_count": 124,
   "metadata": {},
   "outputs": [
    {
     "name": "stdout",
     "output_type": "stream",
     "text": [
      "                      Tipo           Bairro  Quartos  Vagas  Suites  Area  \\\n",
      "0                Quitinete       Copacabana        1      0       0    40   \n",
      "1                     Casa  Jardim Botânico        2      0       1   100   \n",
      "2  Conjunto Comercial/Sala  Barra da Tijuca        0      4       0   150   \n",
      "3              Apartamento           Centro        1      0       0    15   \n",
      "4              Apartamento     Higienópolis        1      0       0    48   \n",
      "5              Apartamento     Vista Alegre        3      1       0    70   \n",
      "6              Apartamento         Cachambi        2      0       0    50   \n",
      "7       Casa de Condomínio  Barra da Tijuca        5      4       5   750   \n",
      "8       Casa de Condomínio            Ramos        2      2       0    65   \n",
      "9  Conjunto Comercial/Sala           Centro        0      3       0   695   \n",
      "\n",
      "   Valor  Condominio    IPTU  \n",
      "0   1700       500.0    60.0  \n",
      "1   7000         NaN     NaN  \n",
      "2   5200      4020.0  1111.0  \n",
      "3    800       390.0    20.0  \n",
      "4    800       230.0     NaN  \n",
      "5   1200         NaN     NaN  \n",
      "6   1300       301.0    17.0  \n",
      "7  22000         NaN     NaN  \n",
      "8   1000         NaN     NaN  \n",
      "9  35000     19193.0  3030.0  \n"
     ]
    }
   ],
   "source": [
    "df_xlsx = pd.read_excel('data/extras/dados/aluguel.xlsx')\n",
    "print(df_xlsx)"
   ]
  },
  {
   "attachments": {},
   "cell_type": "markdown",
   "metadata": {},
   "source": [
    "HTML:\n",
    "\n",
    "- É possivel usar o documento HTML ou o URL da página que contém a tabela;\n",
    "\n",
    "- Tem que ter instalado a biblioteca lxml ;\n",
    "\n"
   ]
  },
  {
   "cell_type": "code",
   "execution_count": 125,
   "metadata": {},
   "outputs": [
    {
     "name": "stdout",
     "output_type": "stream",
     "text": [
      "[  FAIXA ETÁRIA UNAFISCO SAÚDE SOFT II SOFT PARTICIPATIVO      UNIQUE\n",
      "0      00 A 18               R$218,99           R$192,60    R$334,48\n",
      "1      19 A 23               R$263,63           R$207,67    R$380,06\n",
      "2      24 A 28               R$322,44           R$224,26    R$464,39\n",
      "3      29 A 33               R$402,05           R$258,63    R$566,68\n",
      "4      34 A 38               R$455,17           R$306,37    R$664,61\n",
      "5      39 A 43               R$489,29           R$417,93    R$742,72\n",
      "6      44 A 48               R$582,65           R$495,24    R$869,47\n",
      "7      49 A 53               R$718,86           R$562,64  R$1.046,29\n",
      "8      54 A 58               R$908,54           R$721,00  R$1.355,74\n",
      "9   59 OU MAIS             R$1.244,50         R$1.151,62  R$2.003,53]\n"
     ]
    }
   ],
   "source": [
    "\n",
    "df_html = pd.read_html('data/extras/dados/dados_html_1.html') #*Pode ser o URL da página da planilha\n",
    "print(df_html)"
   ]
  },
  {
   "cell_type": "code",
   "execution_count": 126,
   "metadata": {},
   "outputs": [
    {
     "name": "stdout",
     "output_type": "stream",
     "text": [
      "                  Local IPCA [Jan/2023] INPC [Jan/2023]\n",
      "0                Brasil           0,53%           0,46%\n",
      "1          Aracaju (SE)           0,63%           0,49%\n",
      "2            Belém (PA)           0,41%           0,40%\n",
      "3   Belo Horizonte (MG)           0,82%           0,87%\n",
      "4         Brasília (DF)           0,33%           0,27%\n",
      "5     Campo Grande (MS)           0,60%           0,64%\n",
      "6         Curitiba (PR)          -0,05%           0,02%\n",
      "7        Fortaleza (CE)           0,86%           0,73%\n",
      "8          Goiânia (GO)           0,24%           0,29%\n",
      "9   Grande Vitória (ES)           0,92%           0,85%\n",
      "10    Porto Alegre (RS)           0,23%           0,20%\n",
      "11          Recife (PE)           0,03%          -0,08%\n",
      "12      Rio Branco (AC)           0,67%           0,49%\n",
      "13  Rio de Janeiro (RJ)           0,43%           0,37%\n",
      "14        Salvador (BA)           1,09%           0,95%\n",
      "15        São Luís (MA)          -0,01%          -0,04%\n",
      "16       São Paulo (SP)           0,68%           0,54%\n"
     ]
    }
   ],
   "source": [
    "import lxml\n",
    "df_html = pd.read_html('https://ibge.gov.br/explica/inflacao.php') #*Pode ser o URL da página da planilha\n",
    "print(df_html[1])"
   ]
  },
  {
   "attachments": {},
   "cell_type": "markdown",
   "metadata": {},
   "source": [
    "PRN:"
   ]
  },
  {
   "cell_type": "code",
   "execution_count": 127,
   "metadata": {},
   "outputs": [
    {
     "name": "stderr",
     "output_type": "stream",
     "text": [
      "C:\\Users\\higor_custodio\\AppData\\Local\\Temp\\ipykernel_11532\\503901993.py:2: FutureWarning: The squeeze argument has been deprecated and will be removed in a future version. Append .squeeze(\"columns\") to the call to squeeze.\n",
      "\n",
      "\n",
      "  df_prn = pd.read_csv('CONTA_SA.PRN', header=8, squeeze=True)\n"
     ]
    },
    {
     "data": {
      "text/plain": [
       "0                                                     \u000f\n",
       "1                                                   ...\n",
       "2     01/03/2023                                SIST...\n",
       "3     15:00                                       CR...\n",
       "4                                                   ...\n",
       "5     ==============================================...\n",
       "6              CRITICAS DE VALIDACAO DE DADOS       160\n",
       "7     ----------------------------------------------...\n",
       "8       CPF             NOME                        ...\n",
       "9       113.120.699-10  CARLOS BUENO                ...\n",
       "10    ==============================================...\n",
       "11                                                  \u001bP\u0012\n",
       "12                                                  \u001bCB\n",
       "Name: \u000f, dtype: object"
      ]
     },
     "execution_count": 127,
     "metadata": {},
     "output_type": "execute_result"
    }
   ],
   "source": [
    "from pandas import Series, concat, DataFrame\n",
    "df_prn = pd.read_csv('CONTA_SA.PRN', header=8, squeeze=True)\n",
    "df_prn"
   ]
  },
  {
   "cell_type": "code",
   "execution_count": 128,
   "metadata": {},
   "outputs": [],
   "source": [
    "df_dados = df_prn"
   ]
  },
  {
   "cell_type": "code",
   "execution_count": 129,
   "metadata": {},
   "outputs": [
    {
     "data": {
      "text/plain": [
       "0      CPF             NOME                        ...\n",
       "0      113.120.699-10  CARLOS BUENO                ...\n",
       "dtype: object"
      ]
     },
     "execution_count": 129,
     "metadata": {},
     "output_type": "execute_result"
    }
   ],
   "source": [
    "serie1 = Series(df_dados.iloc[8])\n",
    "serie2 = Series(df_dados.iloc[9])\n",
    "\n",
    "data_frame = concat([serie1, serie2], axis=0)\n",
    "data_frame"
   ]
  },
  {
   "cell_type": "code",
   "execution_count": 130,
   "metadata": {},
   "outputs": [
    {
     "data": {
      "text/plain": [
       "0      CPF             NOME                        ...\n",
       "0      113.120.699-10  CARLOS BUENO                ...\n",
       "dtype: object"
      ]
     },
     "execution_count": 130,
     "metadata": {},
     "output_type": "execute_result"
    }
   ],
   "source": [
    "df_associado = data_frame\n",
    "df_associado"
   ]
  },
  {
   "cell_type": "code",
   "execution_count": 152,
   "metadata": {},
   "outputs": [
    {
     "name": "stdout",
     "output_type": "stream",
     "text": [
      "  CPF             NOME                            CONTA    COMPLEMENTO\n",
      "  113.120.699-10  CARLOS BUENO                    ERRO     ASSOCIADO JA POSSUI CONTA SALARIO PARA O CONVENIO INFORMADO.\n"
     ]
    }
   ],
   "source": [
    "df_header = df_associado.iloc[0]\n",
    "df_row = df_associado.iloc[1]\n",
    "df_header.split(',')\n",
    "df_row.split(',')\n",
    "print(df_header)\n",
    "print(df_row)\n"
   ]
  },
  {
   "cell_type": "code",
   "execution_count": 153,
   "metadata": {},
   "outputs": [
    {
     "name": "stdout",
     "output_type": "stream",
     "text": [
      "0      CPF             NOME                        ...\n",
      "dtype: object\n",
      "0      113.120.699-10  CARLOS BUENO                ...\n",
      "dtype: object\n"
     ]
    }
   ],
   "source": [
    "serie_header = Series(df_header)\n",
    "serie_row = Series(df_row)\n",
    "\n",
    "print(serie_header)\n",
    "print(serie_row)\n",
    "\n"
   ]
  },
  {
   "cell_type": "code",
   "execution_count": 154,
   "metadata": {},
   "outputs": [
    {
     "data": {
      "text/plain": [
       "0      CPF             NOME                        ...\n",
       "1      113.120.699-10  CARLOS BUENO                ...\n",
       "dtype: object"
      ]
     },
     "execution_count": 154,
     "metadata": {},
     "output_type": "execute_result"
    }
   ],
   "source": [
    "df_fim = pd.concat([serie_header, serie_row], axis=0, ignore_index=True)\n",
    "\n",
    "df_fim"
   ]
  },
  {
   "cell_type": "code",
   "execution_count": null,
   "metadata": {},
   "outputs": [],
   "source": []
  },
  {
   "cell_type": "code",
   "execution_count": 156,
   "metadata": {},
   "outputs": [],
   "source": [
    "df_fim.to_csv('df_a.csv', sep=',', index=False)"
   ]
  }
 ],
 "metadata": {
  "kernelspec": {
   "display_name": "vm_pandas_estudos",
   "language": "python",
   "name": "python3"
  },
  "language_info": {
   "codemirror_mode": {
    "name": "ipython",
    "version": 3
   },
   "file_extension": ".py",
   "mimetype": "text/x-python",
   "name": "python",
   "nbconvert_exporter": "python",
   "pygments_lexer": "ipython3",
   "version": "3.10.10"
  },
  "orig_nbformat": 4,
  "vscode": {
   "interpreter": {
    "hash": "44cb16a6ee2c67cec8cf760a41dd60309e5f26adf5ded8f184971b6d88c6d97b"
   }
  }
 },
 "nbformat": 4,
 "nbformat_minor": 2
}
